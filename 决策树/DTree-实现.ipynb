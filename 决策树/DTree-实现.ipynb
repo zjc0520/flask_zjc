{
 "cells": [
  {
   "cell_type": "markdown",
   "metadata": {},
   "source": [
    "# 决策树算法\n",
    "\n",
    "## 决策树的构造\n",
    "\n",
    "### 优缺点\n",
    "> 优点：>计算复杂度不高，输出结果易于理解，对中间值的缺失不敏感，可以处理不相关特征数据。\n",
    "> 缺点：>可能会产生过渡匹配问题\n",
    "> 适用数据类型：>数值型和标称型"
   ]
  },
  {
   "cell_type": "markdown",
   "metadata": {
    "collapsed": true
   },
   "source": [
    "创建分支的伪代码函数createBranch()如下所示：<br/>\n",
    "监测数据集中的每个子项是否属于同一分类：<br/>\n",
    "&nbsp;&nbsp;If so return 类标签<br/>\n",
    "&nbsp;&nbsp;&nbsp;&nbsp;Else<br/>\n",
    "&nbsp;&nbsp;&nbsp;&nbsp;&nbsp;&nbsp;寻找划分数据集的最好特征<br/>\n",
    "&nbsp;&nbsp;&nbsp;&nbsp;&nbsp;&nbsp;划分数据集<br/>\n",
    "&nbsp;&nbsp;&nbsp;&nbsp;&nbsp;&nbsp;创建分支节点<br/>\n",
    "&nbsp;&nbsp;&nbsp;&nbsp;&nbsp;&nbsp;&nbsp;&nbsp;for 每个划分的子集<br/>\n",
    "&nbsp;&nbsp;&nbsp;&nbsp;&nbsp;&nbsp;&nbsp;&nbsp;&nbsp;&nbsp;调用函数createBranch并增加返回结果到分支节点中<br/>\n",
    "&nbsp;&nbsp;&nbsp;&nbsp;&nbsp;&nbsp;return 分支节点<br/>\n"
   ]
  },
  {
   "cell_type": "markdown",
   "metadata": {},
   "source": [
    "## 信息增益\n",
    "\n",
    ">在划分数据集之前之后信息发生的变化成为信息增益，知道如何计算信息增益，就可以计算每个特征值划分数据集获得的信息增益，获得信息增益最高的特征就是最好的选择。\n",
    "\n",
    "\n",
    ">集合信息的度量方式称为香农熵或者简称为熵，这个名字来源于信息论之父劳德.香农\n",
    "\n",
    ">信息增益（Information gain）和熵（entropy），这些概念自诞生那天起，就令人费解。克劳德.香农写完信息论后，约翰.冯.诺依曼建议使用“熵”这个术语。\n",
    "\n",
    ">熵定义为信息的期望值，在明晰这个概念之前，我们必须知道信息的定义。如果待分类的事务可能划分在多个分类之中，则符号Xi的信息定义为：\n",
    "l(xi)=-㏒₂P(xi)其中P(Xi)是选择该分类的概率。\n",
    "\n",
    ">为了计算熵，需要计算所有类别所有可能值包含的信息期望值，通过下面的公式得到：\n",
    "H=-∑[i=1,n]P(xi)log₂P(xi)\n",
    "\n"
   ]
  },
  {
   "cell_type": "code",
   "execution_count": 4,
   "metadata": {
    "collapsed": false
   },
   "outputs": [
    {
     "data": {
      "text/plain": [
       "0.9709505944546686"
      ]
     },
     "execution_count": 4,
     "metadata": {},
     "output_type": "execute_result"
    }
   ],
   "source": [
    "from math import log\n",
    "#计算信息-熵；可以按照获取最大信息增益的方法划分数据集\n",
    "def calcShannoEnt(dataSet):\n",
    "    numEntries=len(dataSet)\n",
    "    labelCounts={}\n",
    "    for featVec in dataSet:\n",
    "        currentLabel=featVec[-1]     #取最后一列作为数组的分类标签\n",
    "        if currentLabel not in labelCounts.keys():\n",
    "            labelCounts[currentLabel]=0\n",
    "        labelCounts[currentLabel] +=1\n",
    "    shannonEnt=0.0\n",
    "    for key in labelCounts:\n",
    "        prob=float(labelCounts[key])/numEntries   #求某一项的分类（P(X)）\n",
    "        shannonEnt-=prob*log(prob,2)              #求熵∑[i=1,n]P(xi)log₂P(xi)\n",
    "    return shannonEnt\n",
    "\n",
    "\n",
    "#创建测试数据集\n",
    "def createDataSet():\n",
    "    dataSet=[\n",
    "        [1,1,'yes'],\n",
    "        [1,1,'yes'],\n",
    "        [1,0,'no'],\n",
    "        [0,1,'no'],\n",
    "        [0,1,'no'],\n",
    "    ]\n",
    "    labels=['no surfacing','flippers']\n",
    "    return dataSet,labels\n",
    "\n",
    "\n",
    "testdata,testlabels=createDataSet()\n",
    "testdata\n",
    "calcShannoEnt(testdata)"
   ]
  },
  {
   "cell_type": "markdown",
   "metadata": {
    "collapsed": true
   },
   "source": [
    "## 划分数据集\n",
    "> 熵是度量数据集的无序程度的。"
   ]
  },
  {
   "cell_type": "code",
   "execution_count": 5,
   "metadata": {
    "collapsed": true
   },
   "outputs": [
    {
     "name": "stdout",
     "output_type": "stream",
     "text": [
      "[[1, 'yes'], [1, 'yes'], [0, 'no']]\n",
      "[[1, 'no'], [1, 'no']]\n"
     ]
    }
   ],
   "source": [
    "#按照给定特征划分数据集\n",
    "#输入参数：待划分的数据集、划分数据集的特征、需要返回的特征的值\n",
    "def splitDataSet(dataSet,axis,value):\n",
    "    retDataSet=[]                           #创建新的list对象\n",
    "    for featVec in dataSet:\n",
    "        if featVec[axis] ==value:\n",
    "            reducedFeatVec=featVec[:axis]\n",
    "            reducedFeatVec.extend(featVec[axis+1:])\n",
    "            retDataSet.append(reducedFeatVec)\n",
    "    return retDataSet\n",
    "\n",
    "testdata,testlabels=createDataSet()\n",
    "testdata\n",
    "print(splitDataSet(testdata,0,1))\n",
    "print(splitDataSet(testdata,0,0))"
   ]
  },
  {
   "cell_type": "code",
   "execution_count": null,
   "metadata": {
    "collapsed": true
   },
   "outputs": [],
   "source": [
    "#比较python 中append()和extend()方法的不同\n",
    "a=[1,2,3]\n",
    "b=[4,5,6]\n",
    "a.append(b)\n",
    "a.extend(b)"
   ]
  },
  {
   "cell_type": "code",
   "execution_count": 6,
   "metadata": {
    "collapsed": false
   },
   "outputs": [
    {
     "data": {
      "text/plain": [
       "0"
      ]
     },
     "execution_count": 6,
     "metadata": {},
     "output_type": "execute_result"
    }
   ],
   "source": [
    "#选择最好的数据集划分方式\n",
    "def chooseBestFeatureToSplit(dataSet):\n",
    "    # print(dataSet[0])\n",
    "    numFeatures=len(dataSet[0])-1\n",
    "    baseEntropy =calcShannoEnt(dataSet)\n",
    "    bestInfoGain =0.0;bestFeature=-1\n",
    "    for i in range(numFeatures):\n",
    "        featList=[example[i] for example in dataSet]\n",
    "        #print(featList)\n",
    "        uniqueVals=set(featList)\n",
    "        #print(uniqueVals)\n",
    "        newEntropy=0.0\n",
    "        for value in uniqueVals:\n",
    "            subDataSet=splitDataSet(dataSet,i,value)\n",
    "            prob=len(subDataSet)/float(len(dataSet))\n",
    "            newEntropy += prob * calcShannoEnt(subDataSet)\n",
    "        #print('newEntropy:%s'%newEntropy)\n",
    "        #print('i:%s'%i)\n",
    "        infoGain = baseEntropy - newEntropy\n",
    "        #print('infoGain:%s'%infoGain)        \n",
    "        if(infoGain>bestInfoGain):\n",
    "            bestInfoGain=infoGain\n",
    "            bestFeature=i\n",
    "    return bestFeature\n",
    "\n",
    "testdata,testlabels=createDataSet()\n",
    "chooseBestFeatureToSplit(testdata)\n"
   ]
  },
  {
   "cell_type": "code",
   "execution_count": 19,
   "metadata": {
    "collapsed": false
   },
   "outputs": [],
   "source": [
    "import operator\n",
    "\n",
    "#分类名\n",
    "def majorityCnt(classList):\n",
    "    classCount={}\n",
    "    for vote in classCount:\n",
    "        if vote not in classCount.keys():\n",
    "            classCount[vote]=0\n",
    "        classCount[vote]+=1\n",
    "    sortedClassCount=sorted(classCount.iteritems(),key=operator.iteritems(1),reversed=True)\n",
    "    print(\"sortedClassCount:::::::::%s\"%sortedClassCount)\n",
    "    return sortedClassCount[0][0]"
   ]
  },
  {
   "cell_type": "code",
   "execution_count": 21,
   "metadata": {
    "collapsed": false
   },
   "outputs": [
    {
     "name": "stdout",
     "output_type": "stream",
     "text": [
      "classList:['yes', 'yes', 'no', 'no', 'no']\n",
      "classList.count:2\n",
      "len(classList):5\n",
      "0\n",
      "no surfacing\n",
      "{'no surfacing': {}}\n",
      "['no surfacing', 'flippers']\n",
      "['flippers']\n",
      "[1, 1, 1, 0, 0]\n",
      "classList:['no', 'no']\n",
      "classList.count:2\n",
      "len(classList):2\n",
      "classList:['yes', 'yes', 'no']\n",
      "classList.count:2\n",
      "len(classList):3\n",
      "0\n",
      "flippers\n",
      "{'flippers': {}}\n",
      "['flippers']\n",
      "[]\n",
      "[1, 1, 0]\n",
      "classList:['no']\n",
      "classList.count:1\n",
      "len(classList):1\n",
      "classList:['yes', 'yes']\n",
      "classList.count:2\n",
      "len(classList):2\n"
     ]
    },
    {
     "data": {
      "text/plain": [
       "{'no surfacing': {0: 'no', 1: {'flippers': {0: 'no', 1: 'yes'}}}}"
      ]
     },
     "execution_count": 21,
     "metadata": {},
     "output_type": "execute_result"
    }
   ],
   "source": [
    "#创建树的函数代码\n",
    "def createTree(dataSet,labels):\n",
    "    classList=[example[-1] for example in dataSet]\n",
    "    print('classList:%s'%classList)\n",
    "    print('classList.count:%s'%classList.count(classList[0]))\n",
    "    print('len(classList):%s'%len(classList))\n",
    "    if classList.count(classList[0])==len(classList):\n",
    "        return classList[0]\n",
    "    if len(dataSet[0])==1:\n",
    "        return majorityCnt(classList)\n",
    "    bestFeat = chooseBestFeatureToSplit(dataSet)\n",
    "    print(bestFeat)\n",
    "    bestFeatLabel=labels[bestFeat]\n",
    "    print(bestFeatLabel)\n",
    "    myTree ={bestFeatLabel:{}}\n",
    "    print(myTree)\n",
    "    print(labels)\n",
    "    del(labels[bestFeat])\n",
    "    print(labels)\n",
    "    featValues=[example[bestFeat] for example in dataSet]\n",
    "    print(featValues)\n",
    "    uniqueVals = set(featValues)\n",
    "    for value in uniqueVals:\n",
    "        subLabels=labels[:]\n",
    "        myTree[bestFeatLabel][value]=createTree(splitDataSet(dataSet,bestFeat,value),subLabels)\n",
    "    return myTree\n",
    "\n",
    "testdata,testlabels=createDataSet()\n",
    "myTree=createTree(testdata,testlabels)\n",
    "\n",
    "myTree"
   ]
  },
  {
   "cell_type": "code",
   "execution_count": 41,
   "metadata": {
    "collapsed": false
   },
   "outputs": [
    {
     "data": {
      "image/png": "[encoded data removed]",
      "text/plain": [
       "<matplotlib.figure.Figure at 0x246723d5a90>"
      ]
     },
     "metadata": {},
     "output_type": "display_data"
    }
   ],
   "source": [
    "#-*- coding: utf-8 -*-\n",
    "import matplotlib.pyplot as plt\n",
    "decisionNode = dict(boxstyle='sawtooth', fc='0.8')\n",
    "leafNode=dict(boxstyle='round4',fc='0.8')\n",
    "arrow_args=dict(arrowstyle='<-')\n",
    "\n",
    "def plotNode(nodeTxt,centerPt,parentPt,nodeType):\n",
    "    createPlot.ax1.annotate(nodeTxt,xy=parentPt,xycoords='axes fraction',xytext=centerPt,textcoords='axes fraction',va='center',ha='center',bbox=nodeType,arrowprops=arrow_args)\n",
    "\n",
    "def createPlot():\n",
    "    fig=plt.figure(1,facecolor='white')\n",
    "    fig.clf()\n",
    "    createPlot.ax1=plt.subplot(111,frameon=False)\n",
    "    plotNode('决策节点',(0.5,0.1),(0.1,0.5),decisionNode)\n",
    "    plotNode('叶节点',(0.8,0.1),(0.3,0.8),leafNode)\n",
    "    plt.show()\n",
    "createPlot()"
   ]
  },
  {
   "cell_type": "code",
   "execution_count": 2,
   "metadata": {
    "collapsed": false
   },
   "outputs": [
    {
     "data": {
      "image/png": "[encoded data removed]",
      "text/plain": [
       "<matplotlib.figure.Figure at 0x7329240>"
      ]
     },
     "metadata": {},
     "output_type": "display_data"
    }
   ],
   "source": [
    "'''\n",
    "Created on Oct 14, 2010\n",
    "\n",
    "@author: Peter Harrington\n",
    "'''\n",
    "import matplotlib.pyplot as plt\n",
    "\n",
    "decisionNode = dict(boxstyle=\"sawtooth\", fc=\"0.8\")\n",
    "leafNode = dict(boxstyle=\"round4\", fc=\"0.8\")\n",
    "arrow_args = dict(arrowstyle=\"<-\")\n",
    "\n",
    "def getNumLeafs(myTree):\n",
    "    numLeafs = 0\n",
    "    firstStr = myTree.keys()[0]\n",
    "    secondDict = myTree[firstStr]\n",
    "    for key in secondDict.keys():\n",
    "        if type(secondDict[key]).__name__=='dict':#test to see if the nodes are dictonaires, if not they are leaf nodes\n",
    "            numLeafs += getNumLeafs(secondDict[key])\n",
    "        else:   numLeafs +=1\n",
    "    return numLeafs\n",
    "\n",
    "def getTreeDepth(myTree):\n",
    "    maxDepth = 0\n",
    "    firstStr = myTree.keys()[0]\n",
    "    secondDict = myTree[firstStr]\n",
    "    for key in secondDict.keys():\n",
    "        if type(secondDict[key]).__name__=='dict':#test to see if the nodes are dictonaires, if not they are leaf nodes\n",
    "            thisDepth = 1 + getTreeDepth(secondDict[key])\n",
    "        else:   thisDepth = 1\n",
    "        if thisDepth > maxDepth: maxDepth = thisDepth\n",
    "    return maxDepth\n",
    "\n",
    "def plotNode(nodeTxt, centerPt, parentPt, nodeType):\n",
    "    createPlot.ax1.annotate(nodeTxt, xy=parentPt,  xycoords='axes fraction',\n",
    "             xytext=centerPt, textcoords='axes fraction',\n",
    "             va=\"center\", ha=\"center\", bbox=nodeType, arrowprops=arrow_args )\n",
    "    \n",
    "def plotMidText(cntrPt, parentPt, txtString):\n",
    "    xMid = (parentPt[0]-cntrPt[0])/2.0 + cntrPt[0]\n",
    "    yMid = (parentPt[1]-cntrPt[1])/2.0 + cntrPt[1]\n",
    "    createPlot.ax1.text(xMid, yMid, txtString, va=\"center\", ha=\"center\", rotation=30)\n",
    "\n",
    "def plotTree(myTree, parentPt, nodeTxt):#if the first key tells you what feat was split on\n",
    "    numLeafs = getNumLeafs(myTree)  #this determines the x width of this tree\n",
    "    depth = getTreeDepth(myTree)\n",
    "    firstStr = myTree.keys()[0]     #the text label for this node should be this\n",
    "    cntrPt = (plotTree.xOff + (1.0 + float(numLeafs))/2.0/plotTree.totalW, plotTree.yOff)\n",
    "    plotMidText(cntrPt, parentPt, nodeTxt)\n",
    "    plotNode(firstStr, cntrPt, parentPt, decisionNode)\n",
    "    secondDict = myTree[firstStr]\n",
    "    plotTree.yOff = plotTree.yOff - 1.0/plotTree.totalD\n",
    "    for key in secondDict.keys():\n",
    "        if type(secondDict[key]).__name__=='dict':#test to see if the nodes are dictonaires, if not they are leaf nodes   \n",
    "            plotTree(secondDict[key],cntrPt,str(key))        #recursion\n",
    "        else:   #it's a leaf node print the leaf node\n",
    "            plotTree.xOff = plotTree.xOff + 1.0/plotTree.totalW\n",
    "            plotNode(secondDict[key], (plotTree.xOff, plotTree.yOff), cntrPt, leafNode)\n",
    "            plotMidText((plotTree.xOff, plotTree.yOff), cntrPt, str(key))\n",
    "    plotTree.yOff = plotTree.yOff + 1.0/plotTree.totalD\n",
    "#if you do get a dictonary you know it's a tree, and the first element will be another dict\n",
    "\n",
    "def createPlot(inTree):\n",
    "    fig = plt.figure(1, facecolor='white')\n",
    "    fig.clf()\n",
    "    axprops = dict(xticks=[], yticks=[])\n",
    "    createPlot.ax1 = plt.subplot(111, frameon=False, **axprops)    #no ticks\n",
    "    #createPlot.ax1 = plt.subplot(111, frameon=False) #ticks for demo puropses \n",
    "    plotTree.totalW = float(getNumLeafs(inTree))\n",
    "    plotTree.totalD = float(getTreeDepth(inTree))\n",
    "    plotTree.xOff = -0.5/plotTree.totalW; plotTree.yOff = 1.0;\n",
    "    plotTree(inTree, (0.5,1.0), '')\n",
    "    plt.show()\n",
    "\n",
    "#def createPlot():\n",
    "#    fig = plt.figure(1, facecolor='white')\n",
    "#    fig.clf()\n",
    "#    createPlot.ax1 = plt.subplot(111, frameon=False) #ticks for demo puropses \n",
    "#    plotNode('a decision node', (0.5, 0.1), (0.1, 0.5), decisionNode)\n",
    "#    plotNode('a leaf node', (0.8, 0.1), (0.3, 0.8), leafNode)\n",
    "#    plt.show()\n",
    "\n",
    "def retrieveTree(i):\n",
    "    listOfTrees =[{'no surfacing': {0: 'no', 1: {'flippers': {0: 'no', 1: 'yes'}}}},\n",
    "                  {'no surfacing': {0: 'no', 1: {'flippers': {0: {'head': {0: 'no', 1: 'yes'}}, 1: 'no'}}}}\n",
    "                  ]\n",
    "    return listOfTrees[i]\n",
    "\n",
    "thisTree=retrieveTree(0)\n",
    "createPlot(thisTree)"
   ]
  },
  {
   "cell_type": "code",
   "execution_count": null,
   "metadata": {
    "collapsed": true
   },
   "outputs": [],
   "source": []
  }
 ],
 "metadata": {
  "kernelspec": {
   "display_name": "Python 2",
   "language": "python",
   "name": "python2"
  },
  "language_info": {
   "codemirror_mode": {
    "name": "ipython",
    "version": 2
   },
   "file_extension": ".py",
   "mimetype": "text/x-python",
   "name": "python",
   "nbconvert_exporter": "python",
   "pygments_lexer": "ipython2",
   "version": "2.7.13"
  }
 },
 "nbformat": 4,
 "nbformat_minor": 2
}
